{
 "cells": [
  {
   "cell_type": "markdown",
   "id": "8821dd6f-5366-4830-8e3e-46ed83731519",
   "metadata": {},
   "source": [
    "# Import Necessary Libraries"
   ]
  },
  {
   "cell_type": "code",
   "execution_count": 5,
   "id": "839da90f-3811-41fc-b805-c36a4361d538",
   "metadata": {},
   "outputs": [],
   "source": [
    "import pandas as pd\n",
    "\n",
    "import warnings\n",
    "warnings.filterwarnings('ignore')\n",
    "\n",
    "%matplotlib inline"
   ]
  },
  {
   "cell_type": "markdown",
   "id": "cc8069f7-d966-419d-8c5b-82b198eafe1b",
   "metadata": {},
   "source": [
    "# Loading Data"
   ]
  },
  {
   "cell_type": "code",
   "execution_count": 6,
   "id": "081994e9-eed3-45e2-be18-dbda7612e869",
   "metadata": {},
   "outputs": [],
   "source": [
    "books = pd.read_csv('../data/Books.csv')\n",
    "users = pd.read_csv('../data/Users.csv')\n",
    "ratings = pd.read_csv('../data/Ratings.csv')"
   ]
  },
  {
   "cell_type": "code",
   "execution_count": 7,
   "id": "01f44744-9ee5-485e-8fb8-7e039a3e0774",
   "metadata": {},
   "outputs": [
    {
     "name": "stdout",
     "output_type": "stream",
     "text": [
      "(271360, 8)\n",
      "(278858, 3)\n",
      "(1149780, 3)\n"
     ]
    }
   ],
   "source": [
    "print(books.shape)\n",
    "print(users.shape)\n",
    "print(ratings.shape)"
   ]
  },
  {
   "cell_type": "markdown",
   "id": "1482c221-087a-4b4d-915b-11d86c8bfbd4",
   "metadata": {},
   "source": [
    "# Checking Duplicates"
   ]
  },
  {
   "cell_type": "code",
   "execution_count": 11,
   "id": "96dea31a-f0ea-4c8c-a14c-e6003b55d4d0",
   "metadata": {},
   "outputs": [
    {
     "name": "stdout",
     "output_type": "stream",
     "text": [
      "0\n",
      "0\n",
      "0\n"
     ]
    }
   ],
   "source": [
    "print(books.duplicated().sum())\n",
    "print(users.duplicated().sum())\n",
    "print(ratings.duplicated().sum())"
   ]
  },
  {
   "cell_type": "code",
   "execution_count": 12,
   "id": "b14dfc6c",
   "metadata": {},
   "outputs": [],
   "source": [
    "# there is no duplicate values "
   ]
  },
  {
   "cell_type": "markdown",
   "id": "fb352308-ee28-4a14-8d65-742f57005977",
   "metadata": {},
   "source": [
    "# Handling Missing Values\n",
    "* Detect\n",
    "* Remove or Drop\n",
    "* Filtering\n",
    "* if the data is categorical then we have to use \"Mode\"\n",
    "* if data is numerical, we have to use \"mean\", and \"median\"."
   ]
  },
  {
   "cell_type": "markdown",
   "id": "c57bd5ec-948b-465e-b05f-8ad512dd810c",
   "metadata": {},
   "source": [
    "### Detect Missing values"
   ]
  },
  {
   "cell_type": "code",
   "execution_count": 16,
   "id": "ab04876c-fc73-4e89-ae3a-965a5df1131e",
   "metadata": {},
   "outputs": [
    {
     "data": {
      "text/plain": [
       "ISBN                   0\n",
       "Book-Title             0\n",
       "Book-Author            2\n",
       "Year-Of-Publication    0\n",
       "Publisher              2\n",
       "Image-URL-S            0\n",
       "Image-URL-M            0\n",
       "Image-URL-L            3\n",
       "dtype: int64"
      ]
     },
     "execution_count": 16,
     "metadata": {},
     "output_type": "execute_result"
    }
   ],
   "source": [
    "books.isnull().sum()"
   ]
  },
  {
   "cell_type": "code",
   "execution_count": null,
   "id": "1812484a",
   "metadata": {},
   "outputs": [],
   "source": [
    "# There is Null values in:\n",
    "#     Book-Author: 2\n",
    "#     Publisher: 2\n",
    "#     Image-URL-L: 3"
   ]
  },
  {
   "cell_type": "code",
   "execution_count": 18,
   "id": "0cd555c1-e495-4a18-a4c5-90808001fc35",
   "metadata": {},
   "outputs": [
    {
     "data": {
      "text/plain": [
       "User-ID          0\n",
       "Location         0\n",
       "Age         110762\n",
       "dtype: int64"
      ]
     },
     "execution_count": 18,
     "metadata": {},
     "output_type": "execute_result"
    }
   ],
   "source": [
    "users.isnull().sum()"
   ]
  },
  {
   "cell_type": "code",
   "execution_count": 19,
   "id": "1e18476f",
   "metadata": {},
   "outputs": [],
   "source": [
    "# there is lots of null values in:\n",
    "#     Age: 110762"
   ]
  },
  {
   "cell_type": "code",
   "execution_count": 20,
   "id": "1912e90d-6761-4550-947c-2680e627adba",
   "metadata": {},
   "outputs": [
    {
     "data": {
      "text/plain": [
       "User-ID        0\n",
       "ISBN           0\n",
       "Book-Rating    0\n",
       "dtype: int64"
      ]
     },
     "execution_count": 20,
     "metadata": {},
     "output_type": "execute_result"
    }
   ],
   "source": [
    "ratings.isnull().sum()"
   ]
  },
  {
   "cell_type": "code",
   "execution_count": 21,
   "id": "5949ccf5-7497-43f3-9f71-1701212c436d",
   "metadata": {},
   "outputs": [],
   "source": [
    "# There is no Null values "
   ]
  },
  {
   "cell_type": "markdown",
   "id": "4073c960-84a1-46b6-9191-5103c70eb518",
   "metadata": {},
   "source": [
    "# Handling Outliers\n",
    "- Ways to handle\n",
    "    - Detect Outliers\n",
    "    - Dropping outliers\n",
    "    - Imputation - **Median**\n",
    "    - Quantile-based flooring and capping\n",
    "    - Transformations - Log transformation can help to reduce the effect of outliers"
   ]
  },
  {
   "cell_type": "markdown",
   "id": "c30f8ac1-eea2-4382-beb6-b67f96f990ab",
   "metadata": {},
   "source": [
    "* if the data is categorical then we have to use \"Mode\"\n",
    "* if data is numerical, we have to use \"mean\", and \"median\"."
   ]
  },
  {
   "cell_type": "markdown",
   "id": "bf096b10-2af1-47bc-abd1-9e20541a0ddb",
   "metadata": {},
   "source": [
    "* IsolationForest"
   ]
  },
  {
   "cell_type": "markdown",
   "id": "2cb96657-8402-4602-99f3-6daec8197081",
   "metadata": {},
   "source": [
    "* pyod"
   ]
  },
  {
   "cell_type": "markdown",
   "id": "90f6519a-94aa-4432-b81d-95d74d52996f",
   "metadata": {},
   "source": [
    "# Detect Outliers"
   ]
  },
  {
   "cell_type": "code",
   "execution_count": 24,
   "id": "a4c233f3-10ff-4fb6-bfad-86f558b9c99a",
   "metadata": {},
   "outputs": [],
   "source": [
    "# sns.boxplot( data = users, x = \"Age\")"
   ]
  },
  {
   "cell_type": "markdown",
   "id": "999ab48b-27bd-48db-8e7f-dfe5de47e4da",
   "metadata": {},
   "source": [
    "# Save Clean data"
   ]
  },
  {
   "cell_type": "code",
   "execution_count": null,
   "id": "1a9b3c9f-da74-42be-a116-51f1c8d1f2b0",
   "metadata": {},
   "outputs": [],
   "source": []
  }
 ],
 "metadata": {
  "kernelspec": {
   "display_name": "Python 3 (ipykernel)",
   "language": "python",
   "name": "python3"
  },
  "language_info": {
   "codemirror_mode": {
    "name": "ipython",
    "version": 3
   },
   "file_extension": ".py",
   "mimetype": "text/x-python",
   "name": "python",
   "nbconvert_exporter": "python",
   "pygments_lexer": "ipython3",
   "version": "3.10.6"
  }
 },
 "nbformat": 4,
 "nbformat_minor": 5
}
